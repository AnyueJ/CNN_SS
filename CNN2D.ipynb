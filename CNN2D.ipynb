{
 "cells": [
  {
   "cell_type": "code",
   "execution_count": 2,
   "metadata": {},
   "outputs": [],
   "source": [
    "import scipy.io as sio\n",
    "import scipy\n",
    "import tensorflow as tf\n",
    "import numpy as np\n",
    "import matplotlib.pyplot as plt\n",
    "import matplotlib as mpl\n",
    "import math\n",
    "import time\n",
    "from tensorflow.contrib.slim import fully_connected as fc\n",
    "from tensorflow.python.ops.parallel_for.gradients import jacobian\n",
    "import pandas as pd\n",
    "import seaborn as sn\n",
    "import cv2\n",
    "import random"
   ]
  },
  {
   "cell_type": "code",
   "execution_count": 3,
   "metadata": {
    "scrolled": true
   },
   "outputs": [
    {
     "name": "stdout",
     "output_type": "stream",
     "text": [
      "(2000, 10000)\n",
      "(500, 10000)\n",
      "(10000, 50)\n",
      "(500, 10000)\n",
      "(1, 10000)\n",
      "(259, 10000)\n"
     ]
    }
   ],
   "source": [
    "train = sio.loadmat('train.mat')\n",
    "test = sio.loadmat('test.mat')\n",
    "G = sio.loadmat('G.mat')\n",
    "PHI_ALL = sio.loadmat('PHI_ALL.mat')\n",
    "LOGPERM_MEAN = sio.loadmat('logmean.mat')\n",
    "w = 100\n",
    "h = 100\n",
    "train = np.array(train[\"train\"]).transpose()\n",
    "test = np.array(test[\"test\"]).transpose()\n",
    "G = np.array(G[\"G\"]).transpose()\n",
    "PHI_ALL = np.array(PHI_ALL[\"PHI_ALL\"]).transpose()\n",
    "LOGPERM_MEAN = np.array(LOGPERM_MEAN[\"logmean\"]).transpose()\n",
    "input_dim = w*h\n",
    "num_sample = 2000\n",
    "totals = 5\n",
    "maxiter = 4\n",
    "kpers = 6\n",
    "totalk = totals*kpers\n",
    "PHIMIX = sio.loadmat('PHIMIX.mat')\n",
    "PHIMIX = np.array(PHIMIX[\"PHIMIX\"]).transpose()\n",
    "k=[83,53,53,35,35];\n",
    "n1=0\n",
    "n2=0\n",
    "PHI = np.zeros((np.sum(k),10000))\n",
    "print(train.shape)\n",
    "print(test.shape)\n",
    "print(G.shape)\n",
    "print(PHI_ALL.shape)\n",
    "print(LOGPERM_MEAN.shape)\n",
    "print(PHI.shape)\n",
    "for nf in range(totals):\n",
    "    n2 =k[nf]+n2\n",
    "    PHI[n1: n2] = PHI_ALL[nf*100:nf*100+k[nf]]\n",
    "    n1 = k[nf]+n1\n",
    "    \n",
    "k=[19,9,9,6,6];\n",
    "n1=0\n",
    "n2=0\n",
    "PHIn = np.zeros((np.sum(k),10000))\n",
    "for nf in range(totals):\n",
    "    n2 =k[nf]+n2\n",
    "    PHIn[n1: n2] = PHI_ALL[nf*100:nf*100+k[nf]]\n",
    "    n1 = k[nf]+n1"
   ]
  },
  {
   "cell_type": "code",
   "execution_count": 5,
   "metadata": {},
   "outputs": [],
   "source": [
    "def viz_grid3(Xs, padding, gh, gw,pad_value):\n",
    "    \n",
    "    N, H, W = Xs.shape\n",
    "    #grid_size = int(math.ceil(math.sqrt(N)))\n",
    "    grid_height = H * gh + padding * (gh + 1)\n",
    "    grid_width = W * gw + padding * (gw + 1)\n",
    "    \n",
    "    \n",
    "    grid = np.ones((grid_height, grid_width))*pad_value\n",
    "    next_idx = 0\n",
    "    y0, y1 = padding, H + padding\n",
    "    for y in range(gh):\n",
    "        x0, x1 = padding, W + padding\n",
    "        for x in range(gw):\n",
    "            if next_idx < N:\n",
    "                img = Xs[next_idx]\n",
    "                grid[y0:y1, x0:x1] = img\n",
    "                next_idx += 1\n",
    "            x0 += W + padding\n",
    "            x1 += W + padding\n",
    "        y0 += H + padding\n",
    "        y1 += H + padding\n",
    "    return grid"
   ]
  },
  {
   "cell_type": "code",
   "execution_count": 4,
   "metadata": {},
   "outputs": [],
   "source": [
    "def vizfilter(model,scope,gh,gw):\n",
    "    with model.sess.as_default():\n",
    "        with tf.variable_scope(scope, reuse=True):\n",
    "            conv1 = tf.get_variable(\"weights\")\n",
    "            b1    = tf.get_variable(\"biases\")\n",
    "        w = conv1.eval()\n",
    "        w_01 = np.array(w)\n",
    "        w_01 = (w_01-w_01.min())/(w_01.max()-w_01.min())\n",
    "        wT = w_01.transpose((3,0,1,2))\n",
    "        rgb_w = []\n",
    "        n, H, W, C = wT.shape\n",
    "        rgb_w = wT\n",
    "        rgb_w = np.asarray(rgb_w)\n",
    "        grid = viz_grid3(Xs = rgb_w[:,:,:,0],padding = 1,gh = gh,gw = gw,pad_value = 1)\n",
    "        fig = plt.figure(figsize = (gw,gh))   \n",
    "        ax1 = plt.subplot(111)\n",
    "        ax1.imshow(grid,cmap='gray_r')\n",
    "        ax1.axes.get_xaxis().set_visible(False)\n",
    "        ax1.axes.get_yaxis().set_visible(False)\n",
    "        ax1.set_title('Learned {} Filters'.format(scope), fontsize=15)\n",
    "        cax = fig.add_axes([0.95, 0.2, 0.02, 0.6])\n",
    "        cb = mpl.colorbar.ColorbarBase(cax, cmap='gray_r', norm = mpl.colors.Normalize(vmin=0, vmax=1),spacing='proportional')"
   ]
  },
  {
   "cell_type": "code",
   "execution_count": 5,
   "metadata": {},
   "outputs": [],
   "source": [
    "class CNN(object):\n",
    "\n",
    "    def __init__(self, conv1n):\n",
    "\n",
    "        tf.reset_default_graph()\n",
    "        self.conv1n = conv1n\n",
    "        self.build()\n",
    "\n",
    "        self.sess = tf.InteractiveSession()\n",
    "        self.sess.run(tf.global_variables_initializer())\n",
    "\n",
    "    # Build the netowrk and the loss functions\n",
    "    def build(self):\n",
    "        self.x = tf.placeholder(\n",
    "            name='x', dtype=tf.float32, shape=[None, input_dim])\n",
    "        self.labels = tf.placeholder(\n",
    "            name='labels', dtype=tf.int64, shape=[None, 5])\n",
    "        self.learning_rate = tf.placeholder(name = 'learning_rate',dtype = tf.float32,shape = None)\n",
    "        self.drate = tf.placeholder(name = 'drate',dtype = tf.float32,shape = None)\n",
    "        self.onehotgrad = tf.placeholder(name = 'onehotgrad',dtype = tf.float32,shape = [None,5])\n",
    "        self.l1c = tf.placeholder(name = 'l1c',dtype = tf.float32,shape = None)\n",
    "        self.l2c = tf.placeholder(name = 'l2c',dtype = tf.float32,shape = None)\n",
    "        inp0 = tf.nn.dropout(self.x,rate = self.drate)\n",
    "        inp = tf.reshape(inp0,[-1,100,100,1])\n",
    "        \n",
    "        self.conv1 = tf.contrib.layers.conv2d(inp,self.conv1n,[5,5],stride=1,\n",
    "                                 padding='Same',activation_fn=tf.nn.relu,scope = 'Conv1')\n",
    " \n",
    "        print(self.conv1.shape)\n",
    "        mp1 = tf.contrib.layers.avg_pool2d(self.conv1,[2,2])\n",
    "        d1 = tf.nn.dropout(mp1,rate = self.drate)\n",
    "        self.conv2 = tf.contrib.layers.conv2d(d1,self.conv1n*2,[5,5],stride=1,\n",
    "                                 padding='Same',activation_fn=tf.nn.relu,scope = 'Conv2')\n",
    "        print(self.conv2.shape)\n",
    "        self.mp2 = tf.contrib.layers.avg_pool2d(self.conv2,[2,2])\n",
    "        d2 = tf.nn.dropout(self.mp2,rate = self.drate)\n",
    "        \n",
    "        self.conv3 = tf.contrib.layers.conv2d(d2,self.conv1n*4,[3,3],stride=1,\n",
    "                                 padding='Same',activation_fn=tf.nn.relu,scope = 'Conv3')\n",
    "        print(self.conv3.shape)\n",
    "        self.mp3 = tf.contrib.layers.avg_pool2d(self.conv3,[2,2])\n",
    "        d3 = tf.nn.dropout(self.mp3,rate = self.drate)\n",
    "        self.conv4 = tf.contrib.layers.conv2d(d3,self.conv1n*8,[3,3],stride=1,\n",
    "                                 padding='Same',activation_fn=tf.nn.relu,scope = 'Conv4')\n",
    "        print(self.conv4.shape)\n",
    "        self.conv5 = tf.contrib.layers.conv2d(self.conv4,self.conv1n*8,[3,3],stride=1,\n",
    "                                 padding='Same',activation_fn=tf.nn.relu,scope = 'Conv5')\n",
    "        print(self.conv5.shape)\n",
    "        self.mp4 = tf.contrib.layers.max_pool2d(self.conv5,[2,2])\n",
    "        \n",
    "        print(d3.shape)\n",
    "        flate1 = tf.reshape(self.mp4,[-1,6*6*self.conv1n*8])\n",
    "        self.logits =fc(flate1, 5, scope='FC1',activation_fn=None)\n",
    "        print(self.logits.shape)\n",
    "        print(self.labels.shape)\n",
    "        self.l2w = sum(tf.nn.l2_loss(var) for var in tf.trainable_variables() if not 'biases' in var.name)\n",
    "        self.l2b = sum(tf.nn.l2_loss(var) for var in tf.trainable_variables() if not 'weights' in var.name)\n",
    "        self.l1w = sum(tf.reduce_sum(tf.abs(var)) for var in tf.trainable_variables() if not 'biases' in var.name)\n",
    "        self.l1b = sum(tf.reduce_sum(tf.abs(var)) for var in tf.trainable_variables() if not 'weights' in var.name)\n",
    "        self.loss = tf.losses.softmax_cross_entropy(self.labels, self.logits)\n",
    "        #self.total_loss = self.loss\n",
    "        self.total_loss = self.loss  + self.l2c*self.l2w + self.l2c*self.l2b +self.l1c*self.l1w +self.l1c*self.l1b\n",
    "        self.train_op = tf.train.AdamOptimizer(\n",
    "            learning_rate=self.learning_rate).minimize(self.total_loss)\n",
    "        \n",
    "        self.losses = {\n",
    "            'loss': self.loss,\n",
    "            'total_loss': self.total_loss,\n",
    "            'L1':self.l1w,\n",
    "            'L2':self.l2w\n",
    "        }     \n",
    "        self.prob = tf.nn.softmax(self.logits)\n",
    "        self.correct = tf.equal(tf.argmax(self.prob,1), tf.argmax(self.labels, 1))\n",
    "        self.accuracy=tf.reduce_mean(tf.cast(self.correct, tf.float32))\n",
    "        self.y_c = tf.reduce_sum(tf.multiply(self.logits,self.onehotgrad)+tf.constant(1e-5),axis = 1)\n",
    "        self.grad = tf.gradients(self.y_c,self.mp2)[0]\n",
    "        \n",
    "        return\n",
    "\n",
    "    # Execute the forward and the backward pass\n",
    "    def run_single_step(self, x,labels,learning_rate,drate,l1c,l2c):\n",
    "        _, losses = self.sess.run(\n",
    "            [self.train_op, self.losses],\n",
    "            feed_dict={self.x: x,self.labels: labels, self.learning_rate:learning_rate,self.drate: drate\n",
    "                      ,self.l1c:l1c, self.l2c:l2c}\n",
    "        )\n",
    "        return losses\n",
    "\n",
    "    # x -> x_hat\n",
    "    def predictprob(self, x):\n",
    "        drate = 0\n",
    "        prob = self.sess.run(self.prob, feed_dict={self.x: x,self.drate: drate})\n",
    "        \n",
    "        return prob\n",
    "    def predictclass(self, x):\n",
    "        drate = 0\n",
    "        logits = self.sess.run(self.logits, feed_dict={self.x: x,self.drate: drate})\n",
    "        return pclass\n",
    "    def calaccuracy(self,x,label):\n",
    "        drate = 0\n",
    "        accuracy = self.sess.run(self.accuracy, feed_dict={self.x: x,self.labels:label,self.drate: drate})\n",
    "        \n",
    "        return accuracy\n",
    "    def caljacob(self,x,label,l1c,l2c):\n",
    "        drate = 0\n",
    "        jacob = self.sess.run(jacobian(self.total_loss,self.x), feed_dict={self.x:x,self.labels:label,self.drate:drate\n",
    "                                                                          ,self.l1c:l1c, self.l2c:l2c})\n",
    "        return jacob\n",
    "    def gradcam(self,x,nlabel):\n",
    "        drate = 0\n",
    "        onehotgrad = np.zeros((1,5))\n",
    "        onehotgrad[0,nlabel] = 1\n",
    "        gradcam = self.sess.run(self.grad,feed_dict={self.x:x,self.drate:drate,self.onehotgrad:onehotgrad})\n",
    "        return gradcam\n",
    "    def actmp2(self,x):\n",
    "        drate = 0\n",
    "        actmp2 = self.sess.run(self.mp4,feed_dict = {self.x:x,self.drate:drate})\n",
    "        return actmp2"
   ]
  },
  {
   "cell_type": "code",
   "execution_count": 7,
   "metadata": {},
   "outputs": [],
   "source": [
    "def trainer(\n",
    "    model_object,convl1n,\n",
    "    learning_rate=1e-4, batch_size=64, train = train,test = test,\n",
    "    num_epochs=100, log_step=10, rnv = 1, rbv = 1, rnc = 0.5, rbc = 0.5,drate = 0,l1c = 0,l2c = 0,savename = \"tf_models/SPCNN.ckpt\"):\n",
    "    model = model_object(\n",
    "      convl1n\n",
    "    )\n",
    "    trainlabels = np.zeros((2000,5))\n",
    "    testlabels = np.zeros((500,5))\n",
    "    for iscenario in range(5):\n",
    "        trainlabels[iscenario*400:(iscenario+1)*400,iscenario] = 1\n",
    "    for iscenario in range(5):\n",
    "        testlabels[iscenario*100:(iscenario+1)*100,iscenario] = 1\n",
    "    #print(testlabels[0])\n",
    "    for epoch in range(num_epochs):\n",
    "        start_time = time.time()\n",
    "        seq = np.random.permutation(2000)\n",
    "        traini = train[seq]\n",
    "        noise1 = np.random.normal(0, rbv, (2000,PHIn.shape[0]))\n",
    "        noise2 = np.random.normal(0, rnv, traini.shape)\n",
    "        traini = traini + rbc*noise1@PHIn + rnc*noise2\n",
    "        labelsi = trainlabels[seq]\n",
    "        for iter in range(2000 // batch_size):\n",
    "            batch = traini[iter*batch_size:(iter+1)*batch_size]\n",
    "            batchl = labelsi[iter*batch_size:(iter+1)*batch_size]\n",
    "            losses = model.run_single_step(batch,batchl,learning_rate,drate =drate,l1c = l1c, l2c = l2c)\n",
    "        end_time = time.time()\n",
    "        if epoch % log_step == 0:\n",
    "            acc = model.calaccuracy(train,trainlabels)\n",
    "            log_str = '[Epoch: {}] '.format(epoch)\n",
    "            log_str += 'Accuracy: {:.3f}, '.format(acc)\n",
    "            for k, v in losses.items():\n",
    "                log_str += '{}: {:.3f}, '.format(k, v)\n",
    "            log_str += '({:.3f}sec/epoch)'.format(end_time - start_time)\n",
    "            print(log_str)\n",
    "            acc = model.calaccuracy(testpca,testlabels)\n",
    "            log_str = 'Accuracy: {:.3f}, '.format(acc)\n",
    "            print(log_str)\n",
    "        if epoch % 50== 0:\n",
    "            learning_rate = learning_rate*0.95\n",
    "            acc = model.calaccuracy(testpca,testlabels)\n",
    "            log_str = 'Accuracy: {:.3f}, '.format(acc)\n",
    "            print(log_str)\n",
    "            vizfilter(model,'Conv1',2,5)\n",
    "            vizfilter(model,'Conv2',4,5)\n",
    "    saver = tf.train.Saver()\n",
    "    model_path = saver.save(model.sess, savename)\n",
    "    acc = model.calaccuracy(train,trainlabels)\n",
    "    log_str = '[Epoch: {}] '.format(epoch)\n",
    "    log_str += 'Accuracy: {:.3f}, '.format(acc)\n",
    "    for k, v in losses.items():\n",
    "        log_str += '{}: {:.3f}, '.format(k, v)\n",
    "    log_str += '({:.3f}sec/epoch)'.format(end_time - start_time)\n",
    "    print(log_str)\n",
    "    acc = model.calaccuracy(testpca,testlabels)\n",
    "    log_str = 'Accuracy: {:.3f}, '.format(acc)\n",
    "    vizfilter(model,'Conv1',2,5)\n",
    "    vizfilter(model,'Conv2',4,5)\n",
    "    print(log_str)\n",
    "    \n",
    "    print(\"Model saved in %s\" % model_path)\n",
    "    print('Done')\n",
    "    return model"
   ]
  },
  {
   "cell_type": "code",
   "execution_count": 19,
   "metadata": {},
   "outputs": [],
   "source": [
    "model.sess.close()"
   ]
  },
  {
   "cell_type": "code",
   "execution_count": 100,
   "metadata": {
    "scrolled": true
   },
   "outputs": [
    {
     "name": "stdout",
     "output_type": "stream",
     "text": [
      "(?, 12, 12, 40)\n",
      "(?, 5)\n",
      "(?, 5)\n",
      "[Epoch: 0] Accuracy: 0.198, loss: 1.611, total_loss: 1.624, L1: 3869.044, L2: 92.281, (1.500sec/epoch)\n",
      "Accuracy: 0.206, \n",
      "Accuracy: 0.206, \n",
      "[Epoch: 10] Accuracy: 0.200, loss: 1.602, total_loss: 1.615, L1: 3826.083, L2: 90.903, (1.405sec/epoch)\n",
      "Accuracy: 0.200, \n",
      "[Epoch: 20] Accuracy: 0.292, loss: 1.606, total_loss: 1.618, L1: 3759.994, L2: 88.496, (1.457sec/epoch)\n",
      "Accuracy: 0.276, \n",
      "[Epoch: 30] Accuracy: 0.715, loss: 0.491, total_loss: 0.505, L1: 3861.194, L2: 96.858, (1.448sec/epoch)\n",
      "Accuracy: 0.626, \n",
      "[Epoch: 40] Accuracy: 0.866, loss: 0.204, total_loss: 0.218, L1: 3900.160, L2: 101.172, (1.443sec/epoch)\n",
      "Accuracy: 0.778, \n",
      "[Epoch: 49] Accuracy: 0.907, loss: 0.283, total_loss: 0.297, L1: 3926.290, L2: 104.320, (1.479sec/epoch)\n",
      "Accuracy: 0.790, \n",
      "Model saved in tf_models/CNNvisual105.ckpt\n",
      "Done\n"
     ]
    },
    {
     "data": {
      "image/png": "[encoded data removed]",
      "text/plain": [
       "<Figure size 360x144 with 2 Axes>"
      ]
     },
     "metadata": {
      "needs_background": "light"
     },
     "output_type": "display_data"
    },
    {
     "data": {
      "image/png": "[encoded data removed]",
      "text/plain": [
       "<Figure size 360x288 with 2 Axes>"
      ]
     },
     "metadata": {
      "needs_background": "light"
     },
     "output_type": "display_data"
    },
    {
     "data": {
      "image/png": "[encoded data removed]",
      "text/plain": [
       "<Figure size 360x144 with 2 Axes>"
      ]
     },
     "metadata": {
      "needs_background": "light"
     },
     "output_type": "display_data"
    },
    {
     "data": {
      "image/png": "[encoded data removed]",
      "text/plain": [
       "<Figure size 360x288 with 2 Axes>"
      ]
     },
     "metadata": {
      "needs_background": "light"
     },
     "output_type": "display_data"
    }
   ],
   "source": [
    "model = trainer(CNN, 10,num_epochs=50, learning_rate=5e-4, batch_size=50,\n",
    "                train = trainpca,rnc = 2, rbc = 7,drate = 0.7, l1c = 0.000001, l2c = 0.0001,savename = \"tf_models/CNNvisual105.ckpt\")"
   ]
  },
  {
   "cell_type": "code",
   "execution_count": 8,
   "metadata": {},
   "outputs": [
    {
     "name": "stdout",
     "output_type": "stream",
     "text": [
      "WARNING:tensorflow:From C:\\Users\\alexa\\.conda\\envs\\tf_GPU\\lib\\site-packages\\tensorflow\\python\\framework\\op_def_library.py:263: colocate_with (from tensorflow.python.framework.ops) is deprecated and will be removed in a future version.\n",
      "Instructions for updating:\n",
      "Colocations handled automatically by placer.\n",
      "(?, 12, 12, 40)\n",
      "(?, 5)\n",
      "(?, 5)\n",
      "WARNING:tensorflow:From C:\\Users\\alexa\\.conda\\envs\\tf_GPU\\lib\\site-packages\\tensorflow\\python\\ops\\losses\\losses_impl.py:209: to_float (from tensorflow.python.ops.math_ops) is deprecated and will be removed in a future version.\n",
      "Instructions for updating:\n",
      "Use tf.cast instead.\n",
      "WARNING:tensorflow:From C:\\Users\\alexa\\.conda\\envs\\tf_GPU\\lib\\site-packages\\tensorflow\\python\\ops\\math_ops.py:3066: to_int32 (from tensorflow.python.ops.math_ops) is deprecated and will be removed in a future version.\n",
      "Instructions for updating:\n",
      "Use tf.cast instead.\n",
      "WARNING:tensorflow:From C:\\Users\\alexa\\.conda\\envs\\tf_GPU\\lib\\site-packages\\tensorflow\\python\\training\\saver.py:1266: checkpoint_exists (from tensorflow.python.training.checkpoint_management) is deprecated and will be removed in a future version.\n",
      "Instructions for updating:\n",
      "Use standard file APIs to check for files with this prefix.\n",
      "INFO:tensorflow:Restoring parameters from tf_models/CNNvisual104.ckpt\n"
     ]
    }
   ],
   "source": [
    "model = CNN(10)\n",
    "saver = tf.train.Saver()\n",
    "saver.restore(model.sess, \"tf_models/CNNvisual104.ckpt\")"
   ]
  },
  {
   "cell_type": "code",
   "execution_count": 90,
   "metadata": {},
   "outputs": [],
   "source": [
    "model.sess.close()"
   ]
  },
  {
   "cell_type": "code",
   "execution_count": null,
   "metadata": {},
   "outputs": [],
   "source": []
  }
 ],
 "metadata": {
  "kernelspec": {
   "display_name": "Python 3",
   "language": "python",
   "name": "python3"
  },
  "language_info": {
   "codemirror_mode": {
    "name": "ipython",
    "version": 3
   },
   "file_extension": ".py",
   "mimetype": "text/x-python",
   "name": "python",
   "nbconvert_exporter": "python",
   "pygments_lexer": "ipython3",
   "version": "3.7.3"
  }
 },
 "nbformat": 4,
 "nbformat_minor": 2
}
